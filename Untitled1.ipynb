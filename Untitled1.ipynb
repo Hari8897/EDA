{
 "cells": [
  {
   "cell_type": "code",
   "execution_count": 2,
   "id": "57615cfc",
   "metadata": {},
   "outputs": [],
   "source": [
    "import numpy as np\n",
    "import pandas as pd\n",
    "import matplotlib.pyplot as plt\n",
    "import seaborn as sns"
   ]
  },
  {
   "cell_type": "code",
   "execution_count": 3,
   "id": "924dcbe9",
   "metadata": {},
   "outputs": [
    {
     "data": {
      "text/html": [
       "<div>\n",
       "<style scoped>\n",
       "    .dataframe tbody tr th:only-of-type {\n",
       "        vertical-align: middle;\n",
       "    }\n",
       "\n",
       "    .dataframe tbody tr th {\n",
       "        vertical-align: top;\n",
       "    }\n",
       "\n",
       "    .dataframe thead th {\n",
       "        text-align: right;\n",
       "    }\n",
       "</style>\n",
       "<table border=\"1\" class=\"dataframe\">\n",
       "  <thead>\n",
       "    <tr style=\"text-align: right;\">\n",
       "      <th></th>\n",
       "      <th>case_id</th>\n",
       "      <th>continent</th>\n",
       "      <th>education_of_employee</th>\n",
       "      <th>has_job_experience</th>\n",
       "      <th>requires_job_training</th>\n",
       "      <th>no_of_employees</th>\n",
       "      <th>yr_of_estab</th>\n",
       "      <th>region_of_employment</th>\n",
       "      <th>prevailing_wage</th>\n",
       "      <th>unit_of_wage</th>\n",
       "      <th>full_time_position</th>\n",
       "      <th>case_status</th>\n",
       "    </tr>\n",
       "  </thead>\n",
       "  <tbody>\n",
       "    <tr>\n",
       "      <th>0</th>\n",
       "      <td>EZYV01</td>\n",
       "      <td>Asia</td>\n",
       "      <td>High School</td>\n",
       "      <td>N</td>\n",
       "      <td>N</td>\n",
       "      <td>14513</td>\n",
       "      <td>2007</td>\n",
       "      <td>West</td>\n",
       "      <td>592.2029</td>\n",
       "      <td>Hour</td>\n",
       "      <td>Y</td>\n",
       "      <td>Denied</td>\n",
       "    </tr>\n",
       "    <tr>\n",
       "      <th>1</th>\n",
       "      <td>EZYV02</td>\n",
       "      <td>Asia</td>\n",
       "      <td>Master's</td>\n",
       "      <td>Y</td>\n",
       "      <td>N</td>\n",
       "      <td>2412</td>\n",
       "      <td>2002</td>\n",
       "      <td>Northeast</td>\n",
       "      <td>83425.6500</td>\n",
       "      <td>Year</td>\n",
       "      <td>Y</td>\n",
       "      <td>Certified</td>\n",
       "    </tr>\n",
       "    <tr>\n",
       "      <th>2</th>\n",
       "      <td>EZYV03</td>\n",
       "      <td>Asia</td>\n",
       "      <td>Bachelor's</td>\n",
       "      <td>N</td>\n",
       "      <td>Y</td>\n",
       "      <td>44444</td>\n",
       "      <td>2008</td>\n",
       "      <td>West</td>\n",
       "      <td>122996.8600</td>\n",
       "      <td>Year</td>\n",
       "      <td>Y</td>\n",
       "      <td>Denied</td>\n",
       "    </tr>\n",
       "    <tr>\n",
       "      <th>3</th>\n",
       "      <td>EZYV04</td>\n",
       "      <td>Asia</td>\n",
       "      <td>Bachelor's</td>\n",
       "      <td>N</td>\n",
       "      <td>N</td>\n",
       "      <td>98</td>\n",
       "      <td>1897</td>\n",
       "      <td>West</td>\n",
       "      <td>83434.0300</td>\n",
       "      <td>Year</td>\n",
       "      <td>Y</td>\n",
       "      <td>Denied</td>\n",
       "    </tr>\n",
       "    <tr>\n",
       "      <th>4</th>\n",
       "      <td>EZYV05</td>\n",
       "      <td>Africa</td>\n",
       "      <td>Master's</td>\n",
       "      <td>Y</td>\n",
       "      <td>N</td>\n",
       "      <td>1082</td>\n",
       "      <td>2005</td>\n",
       "      <td>South</td>\n",
       "      <td>149907.3900</td>\n",
       "      <td>Year</td>\n",
       "      <td>Y</td>\n",
       "      <td>Certified</td>\n",
       "    </tr>\n",
       "    <tr>\n",
       "      <th>5</th>\n",
       "      <td>EZYV06</td>\n",
       "      <td>Asia</td>\n",
       "      <td>Master's</td>\n",
       "      <td>Y</td>\n",
       "      <td>N</td>\n",
       "      <td>2339</td>\n",
       "      <td>2012</td>\n",
       "      <td>South</td>\n",
       "      <td>78252.1400</td>\n",
       "      <td>Year</td>\n",
       "      <td>Y</td>\n",
       "      <td>Certified</td>\n",
       "    </tr>\n",
       "    <tr>\n",
       "      <th>6</th>\n",
       "      <td>EZYV07</td>\n",
       "      <td>Asia</td>\n",
       "      <td>Bachelor's</td>\n",
       "      <td>N</td>\n",
       "      <td>N</td>\n",
       "      <td>4985</td>\n",
       "      <td>1994</td>\n",
       "      <td>South</td>\n",
       "      <td>53635.3900</td>\n",
       "      <td>Year</td>\n",
       "      <td>Y</td>\n",
       "      <td>Certified</td>\n",
       "    </tr>\n",
       "    <tr>\n",
       "      <th>7</th>\n",
       "      <td>EZYV08</td>\n",
       "      <td>North America</td>\n",
       "      <td>Bachelor's</td>\n",
       "      <td>Y</td>\n",
       "      <td>N</td>\n",
       "      <td>3035</td>\n",
       "      <td>1924</td>\n",
       "      <td>West</td>\n",
       "      <td>418.2298</td>\n",
       "      <td>Hour</td>\n",
       "      <td>Y</td>\n",
       "      <td>Denied</td>\n",
       "    </tr>\n",
       "    <tr>\n",
       "      <th>8</th>\n",
       "      <td>EZYV09</td>\n",
       "      <td>Asia</td>\n",
       "      <td>Bachelor's</td>\n",
       "      <td>N</td>\n",
       "      <td>N</td>\n",
       "      <td>4810</td>\n",
       "      <td>2012</td>\n",
       "      <td>Midwest</td>\n",
       "      <td>74362.1900</td>\n",
       "      <td>Year</td>\n",
       "      <td>Y</td>\n",
       "      <td>Certified</td>\n",
       "    </tr>\n",
       "    <tr>\n",
       "      <th>9</th>\n",
       "      <td>EZYV10</td>\n",
       "      <td>Europe</td>\n",
       "      <td>Doctorate</td>\n",
       "      <td>Y</td>\n",
       "      <td>N</td>\n",
       "      <td>2251</td>\n",
       "      <td>1995</td>\n",
       "      <td>South</td>\n",
       "      <td>67514.7600</td>\n",
       "      <td>Year</td>\n",
       "      <td>Y</td>\n",
       "      <td>Certified</td>\n",
       "    </tr>\n",
       "  </tbody>\n",
       "</table>\n",
       "</div>"
      ],
      "text/plain": [
       "  case_id      continent education_of_employee has_job_experience  \\\n",
       "0  EZYV01           Asia           High School                  N   \n",
       "1  EZYV02           Asia              Master's                  Y   \n",
       "2  EZYV03           Asia            Bachelor's                  N   \n",
       "3  EZYV04           Asia            Bachelor's                  N   \n",
       "4  EZYV05         Africa              Master's                  Y   \n",
       "5  EZYV06           Asia              Master's                  Y   \n",
       "6  EZYV07           Asia            Bachelor's                  N   \n",
       "7  EZYV08  North America            Bachelor's                  Y   \n",
       "8  EZYV09           Asia            Bachelor's                  N   \n",
       "9  EZYV10         Europe             Doctorate                  Y   \n",
       "\n",
       "  requires_job_training  no_of_employees  yr_of_estab region_of_employment  \\\n",
       "0                     N            14513         2007                 West   \n",
       "1                     N             2412         2002            Northeast   \n",
       "2                     Y            44444         2008                 West   \n",
       "3                     N               98         1897                 West   \n",
       "4                     N             1082         2005                South   \n",
       "5                     N             2339         2012                South   \n",
       "6                     N             4985         1994                South   \n",
       "7                     N             3035         1924                 West   \n",
       "8                     N             4810         2012              Midwest   \n",
       "9                     N             2251         1995                South   \n",
       "\n",
       "   prevailing_wage unit_of_wage full_time_position case_status  \n",
       "0         592.2029         Hour                  Y      Denied  \n",
       "1       83425.6500         Year                  Y   Certified  \n",
       "2      122996.8600         Year                  Y      Denied  \n",
       "3       83434.0300         Year                  Y      Denied  \n",
       "4      149907.3900         Year                  Y   Certified  \n",
       "5       78252.1400         Year                  Y   Certified  \n",
       "6       53635.3900         Year                  Y   Certified  \n",
       "7         418.2298         Hour                  Y      Denied  \n",
       "8       74362.1900         Year                  Y   Certified  \n",
       "9       67514.7600         Year                  Y   Certified  "
      ]
     },
     "execution_count": 3,
     "metadata": {},
     "output_type": "execute_result"
    }
   ],
   "source": [
    "path = r'C:\\Users\\kanch\\OneDrive\\Naresh IT\\Data science\\data files\\Visadataset.csv'\n",
    "visa_df = pd.read_csv(path)\n",
    "visa_df.head(10)"
   ]
  },
  {
   "cell_type": "markdown",
   "id": "8af18df6",
   "metadata": {},
   "source": [
    "$histogram$"
   ]
  },
  {
   "cell_type": "code",
   "execution_count": 4,
   "id": "6e34f6be",
   "metadata": {
    "scrolled": true
   },
   "outputs": [
    {
     "data": {
      "image/png": "[encoded data removed]",
      "text/plain": [
       "<Figure size 640x480 with 1 Axes>"
      ]
     },
     "metadata": {},
     "output_type": "display_data"
    }
   ],
   "source": [
    "plt.hist(visa_df['prevailing_wage'])\n",
    "plt.show()\n"
   ]
  },
  {
   "cell_type": "code",
   "execution_count": 5,
   "id": "b68e05c3",
   "metadata": {},
   "outputs": [
    {
     "data": {
      "image/png": "[encoded data removed]",
      "text/plain": [
       "<Figure size 640x480 with 1 Axes>"
      ]
     },
     "metadata": {},
     "output_type": "display_data"
    }
   ],
   "source": [
    "plt.hist(visa_df['prevailing_wage'],bins=40)\n",
    "plt.show()"
   ]
  },
  {
   "cell_type": "code",
   "execution_count": 6,
   "id": "fddd7e94",
   "metadata": {},
   "outputs": [
    {
     "data": {
      "image/png": "[encoded data removed]",
      "text/plain": [
       "<Figure size 640x480 with 1 Axes>"
      ]
     },
     "metadata": {},
     "output_type": "display_data"
    }
   ],
   "source": [
    "f,i,n=plt.hist(visa_df['prevailing_wage'],bins=40)"
   ]
  },
  {
   "cell_type": "code",
   "execution_count": 7,
   "id": "e57017bf",
   "metadata": {},
   "outputs": [
    {
     "data": {
      "text/plain": [
       "(40, 41, 40)"
      ]
     },
     "execution_count": 7,
     "metadata": {},
     "output_type": "execute_result"
    }
   ],
   "source": [
    "len(f),len(i),len(n)"
   ]
  },
  {
   "cell_type": "code",
   "execution_count": 8,
   "id": "d2381cbf",
   "metadata": {},
   "outputs": [
    {
     "data": {
      "text/plain": [
       "array([2992.,  871., 1005., 1170., 1242., 1434., 1385., 1443., 1444.,\n",
       "       1445., 1457., 1335., 1268., 1217., 1088.,  978.,  807.,  645.,\n",
       "        509.,  373.,  264.,  144.,  105.,  111.,  107.,   99.,   88.,\n",
       "         79.,   65.,   64.,   58.,   53.,   33.,   33.,   29.,   19.,\n",
       "          7.,    3.,    6.,    5.])"
      ]
     },
     "execution_count": 8,
     "metadata": {},
     "output_type": "execute_result"
    }
   ],
   "source": [
    "f\n"
   ]
  },
  {
   "cell_type": "code",
   "execution_count": 9,
   "id": "46fcacdf",
   "metadata": {},
   "outputs": [
    {
     "data": {
      "text/plain": [
       "array([2.13670000e+00, 7.98234003e+03, 1.59625434e+04, 2.39427467e+04,\n",
       "       3.19229500e+04, 3.99031534e+04, 4.78833567e+04, 5.58635600e+04,\n",
       "       6.38437634e+04, 7.18239667e+04, 7.98041700e+04, 8.77843734e+04,\n",
       "       9.57645767e+04, 1.03744780e+05, 1.11724983e+05, 1.19705187e+05,\n",
       "       1.27685390e+05, 1.35665593e+05, 1.43645797e+05, 1.51626000e+05,\n",
       "       1.59606203e+05, 1.67586407e+05, 1.75566610e+05, 1.83546813e+05,\n",
       "       1.91527017e+05, 1.99507220e+05, 2.07487423e+05, 2.15467627e+05,\n",
       "       2.23447830e+05, 2.31428033e+05, 2.39408237e+05, 2.47388440e+05,\n",
       "       2.55368643e+05, 2.63348847e+05, 2.71329050e+05, 2.79309253e+05,\n",
       "       2.87289457e+05, 2.95269660e+05, 3.03249863e+05, 3.11230067e+05,\n",
       "       3.19210270e+05])"
      ]
     },
     "execution_count": 9,
     "metadata": {},
     "output_type": "execute_result"
    }
   ],
   "source": [
    "i"
   ]
  },
  {
   "cell_type": "code",
   "execution_count": 10,
   "id": "6c00e8b0",
   "metadata": {},
   "outputs": [
    {
     "data": {
      "text/plain": [
       "<BarContainer object of 40 artists>"
      ]
     },
     "execution_count": 10,
     "metadata": {},
     "output_type": "execute_result"
    }
   ],
   "source": [
    "n"
   ]
  },
  {
   "cell_type": "code",
   "execution_count": 11,
   "id": "dc4d7d85",
   "metadata": {
    "scrolled": true
   },
   "outputs": [
    {
     "data": {
      "text/plain": [
       "2992"
      ]
     },
     "execution_count": 11,
     "metadata": {},
     "output_type": "execute_result"
    }
   ],
   "source": [
    "l = 2.13670000e+00\n",
    "u = 7.98234003e+03\n",
    "c1 = visa_df['prevailing_wage']>=l \n",
    "c2 = visa_df['prevailing_wage']<u\n",
    "c = visa_df[c1 & c2]\n",
    "len(c)"
   ]
  },
  {
   "cell_type": "code",
   "execution_count": 12,
   "id": "1ac9bada",
   "metadata": {},
   "outputs": [
    {
     "name": "stdout",
     "output_type": "stream",
     "text": [
      "871\n"
     ]
    }
   ],
   "source": [
    "def frequency(l,u):\n",
    "    c1 = visa_df['prevailing_wage']>=l \n",
    "    c2 = visa_df['prevailing_wage']<u\n",
    "    c = c1 & c2\n",
    "    print(len(visa_df[c]))\n",
    "    \n",
    "frequency(7.98234003e+03, 1.59625434e+04)\n",
    "        \n",
    "    "
   ]
  },
  {
   "cell_type": "code",
   "execution_count": null,
   "id": "4b1109d4",
   "metadata": {},
   "outputs": [],
   "source": [
    "# Task-1\n",
    "create a datafreame\n",
    "\n",
    "lower   upper   frequency\n",
    "2.136    7.982    2992"
   ]
  },
  {
   "cell_type": "code",
   "execution_count": null,
   "id": "c22448ae",
   "metadata": {
    "scrolled": true
   },
   "outputs": [],
   "source": []
  },
  {
   "cell_type": "code",
   "execution_count": null,
   "id": "027eda74",
   "metadata": {},
   "outputs": [],
   "source": []
  },
  {
   "cell_type": "code",
   "execution_count": null,
   "id": "ea85669f",
   "metadata": {},
   "outputs": [],
   "source": []
  },
  {
   "cell_type": "code",
   "execution_count": null,
   "id": "461b676c",
   "metadata": {},
   "outputs": [],
   "source": []
  },
  {
   "cell_type": "code",
   "execution_count": null,
   "id": "cb4c55bd",
   "metadata": {},
   "outputs": [],
   "source": []
  },
  {
   "cell_type": "code",
   "execution_count": null,
   "id": "77563b80",
   "metadata": {},
   "outputs": [],
   "source": []
  },
  {
   "cell_type": "code",
   "execution_count": null,
   "id": "0fdda932",
   "metadata": {},
   "outputs": [],
   "source": []
  },
  {
   "cell_type": "code",
   "execution_count": null,
   "id": "9188b066",
   "metadata": {},
   "outputs": [],
   "source": [
    "# task-2:\n",
    "#  in sns how to plot histogram\n"
   ]
  },
  {
   "cell_type": "markdown",
   "id": "23ffc53a",
   "metadata": {},
   "source": [
    "         Q1-1.5IQR   Q1   median  Q3   Q3+1.5IQR\n",
    "                       |-----:-----|\n",
    "       o      |--------|     :     |--------|    o  o\n",
    "    s                   |-----:-----|\n",
    "     flier             <----------->            fliers\n",
    "                            IQR"
   ]
  },
  {
   "cell_type": "markdown",
   "id": "f18c7d7d",
   "metadata": {},
   "source": [
    "$box$  $plot$\n",
    "\n",
    "- Boxplot is used to identify outliers\n",
    "\n",
    "- In box plot we have\n",
    "\n",
    "    - Q1: 25p value\n",
    "    - Q2: 50p value\n",
    "    - Q3: 75p value\n",
    "    - IQR: Q3-Q1\n",
    "    - Mild outliers Q1-1.5IQR and Q3+1.5IQR\n",
    "    - huge outliers Q1-3IQR and Q3+3IQR\n",
    " "
   ]
  },
  {
   "cell_type": "markdown",
   "id": "3f46e136",
   "metadata": {},
   "source": [
    "           Q1-1.5IQR   Q1   median  Q3   Q3+1.5IQR\n",
    "                       |-----:-----|\n",
    "       o      |--------|     :     |--------|    o  o\n",
    "                       |-----:-----|\n",
    "     flier             <----------->            fliers\n",
    "                            IQR"
   ]
  },
  {
   "cell_type": "code",
   "execution_count": null,
   "id": "85f3c782",
   "metadata": {},
   "outputs": [],
   "source": [
    "plt.boxplot(visa_df['prevailing_wage'])\n",
    "plt.show()"
   ]
  },
  {
   "cell_type": "code",
   "execution_count": null,
   "id": "1af25cc4",
   "metadata": {},
   "outputs": [],
   "source": [
    "# black dots are called"
   ]
  },
  {
   "cell_type": "code",
   "execution_count": null,
   "id": "d7f7ffcc",
   "metadata": {},
   "outputs": [],
   "source": [
    "np.percentile(visa_df['prevailing_wage'],25)"
   ]
  },
  {
   "cell_type": "code",
   "execution_count": null,
   "id": "44712948",
   "metadata": {},
   "outputs": [],
   "source": []
  },
  {
   "cell_type": "code",
   "execution_count": 15,
   "id": "a81f0df3",
   "metadata": {},
   "outputs": [
    {
     "data": {
      "image/png": "[encoded data removed]",
      "text/plain": [
       "<Figure size 640x480 with 1 Axes>"
      ]
     },
     "metadata": {},
     "output_type": "display_data"
    }
   ],
   "source": [
    "p=plt.hist(visa_df['prevailing_wage'],bins=40)"
   ]
  },
  {
   "cell_type": "code",
   "execution_count": null,
   "id": "07b53982",
   "metadata": {},
   "outputs": [],
   "source": [
    "\n",
    "\n",
    "lower   upper   frequency\n",
    "2.136    7.982    2992"
   ]
  },
  {
   "cell_type": "code",
   "execution_count": 24,
   "id": "aa91a01a",
   "metadata": {},
   "outputs": [
    {
     "data": {
      "text/plain": [
       "[2.1367,\n",
       " 7982.340032500001,\n",
       " 15962.543365000001,\n",
       " 23942.746697500002,\n",
       " 31922.950030000004,\n",
       " 39903.15336250001,\n",
       " 47883.35669500001,\n",
       " 55863.56002750001,\n",
       " 63843.76336000001,\n",
       " 71823.96669250002,\n",
       " 79804.17002500001,\n",
       " 87784.37335750001,\n",
       " 95764.57669000002,\n",
       " 103744.78002250002,\n",
       " 111724.98335500002,\n",
       " 119705.18668750001,\n",
       " 127685.39002000002,\n",
       " 135665.59335250003,\n",
       " 143645.79668500004,\n",
       " 151626.00001750002,\n",
       " 159606.20335000003,\n",
       " 167586.40668250003,\n",
       " 175566.610015,\n",
       " 183546.81334750002,\n",
       " 191527.01668000003,\n",
       " 199507.22001250004,\n",
       " 207487.42334500005,\n",
       " 215467.62667750003,\n",
       " 223447.83001000003,\n",
       " 231428.03334250004,\n",
       " 239408.23667500002,\n",
       " 247388.44000750003,\n",
       " 255368.64334000004,\n",
       " 263348.8466725,\n",
       " 271329.050005,\n",
       " 279309.25333750003,\n",
       " 287289.45667000004,\n",
       " 295269.6600025,\n",
       " 303249.863335,\n",
       " 311230.0666675]"
      ]
     },
     "execution_count": 24,
     "metadata": {},
     "output_type": "execute_result"
    }
   ],
   "source": [
    "lower = []\n",
    "for i in range(len(p[0])):   \n",
    "     lower.append(p[1][i])\n",
    "lower"
   ]
  },
  {
   "cell_type": "code",
   "execution_count": 23,
   "id": "85801cc8",
   "metadata": {},
   "outputs": [
    {
     "data": {
      "text/plain": [
       "[2992.0,\n",
       " 871.0,\n",
       " 1005.0,\n",
       " 1170.0,\n",
       " 1242.0,\n",
       " 1434.0,\n",
       " 1385.0,\n",
       " 1443.0,\n",
       " 1444.0,\n",
       " 1445.0,\n",
       " 1457.0,\n",
       " 1335.0,\n",
       " 1268.0,\n",
       " 1217.0,\n",
       " 1088.0,\n",
       " 978.0,\n",
       " 807.0,\n",
       " 645.0,\n",
       " 509.0,\n",
       " 373.0,\n",
       " 264.0,\n",
       " 144.0,\n",
       " 105.0,\n",
       " 111.0,\n",
       " 107.0,\n",
       " 99.0,\n",
       " 88.0,\n",
       " 79.0,\n",
       " 65.0,\n",
       " 64.0,\n",
       " 58.0,\n",
       " 53.0,\n",
       " 33.0,\n",
       " 33.0,\n",
       " 29.0,\n",
       " 19.0,\n",
       " 7.0,\n",
       " 3.0,\n",
       " 6.0,\n",
       " 5.0]"
      ]
     },
     "execution_count": 23,
     "metadata": {},
     "output_type": "execute_result"
    }
   ],
   "source": [
    "frequency =[]\n",
    "for i in range(len(p[0])):   \n",
    "     upper.append(p[0][i])\n",
    "        \n",
    "frequency"
   ]
  },
  {
   "cell_type": "code",
   "execution_count": 28,
   "id": "83756d4d",
   "metadata": {},
   "outputs": [
    {
     "data": {
      "text/plain": [
       "[7982.340032500001,\n",
       " 15962.543365000001,\n",
       " 23942.746697500002,\n",
       " 31922.950030000004,\n",
       " 39903.15336250001,\n",
       " 47883.35669500001,\n",
       " 55863.56002750001,\n",
       " 63843.76336000001,\n",
       " 71823.96669250002,\n",
       " 79804.17002500001,\n",
       " 87784.37335750001,\n",
       " 95764.57669000002,\n",
       " 103744.78002250002,\n",
       " 111724.98335500002,\n",
       " 119705.18668750001,\n",
       " 127685.39002000002,\n",
       " 135665.59335250003,\n",
       " 143645.79668500004,\n",
       " 151626.00001750002,\n",
       " 159606.20335000003,\n",
       " 167586.40668250003,\n",
       " 175566.610015,\n",
       " 183546.81334750002,\n",
       " 191527.01668000003,\n",
       " 199507.22001250004,\n",
       " 207487.42334500005,\n",
       " 215467.62667750003,\n",
       " 223447.83001000003,\n",
       " 231428.03334250004,\n",
       " 239408.23667500002,\n",
       " 247388.44000750003,\n",
       " 255368.64334000004,\n",
       " 263348.8466725,\n",
       " 271329.050005,\n",
       " 279309.25333750003,\n",
       " 287289.45667000004,\n",
       " 295269.6600025,\n",
       " 303249.863335,\n",
       " 311230.0666675,\n",
       " 319210.27]"
      ]
     },
     "execution_count": 28,
     "metadata": {},
     "output_type": "execute_result"
    }
   ],
   "source": [
    "upper =[]\n",
    "for i in range(len(p[0])):   \n",
    "     upper.append(p[1][i+1])\n",
    "        \n",
    "upper"
   ]
  },
  {
   "cell_type": "code",
   "execution_count": null,
   "id": "5c7111a7",
   "metadata": {},
   "outputs": [],
   "source": []
  },
  {
   "cell_type": "code",
   "execution_count": null,
   "id": "577f29aa",
   "metadata": {},
   "outputs": [],
   "source": []
  },
  {
   "cell_type": "code",
   "execution_count": null,
   "id": "04f21906",
   "metadata": {},
   "outputs": [],
   "source": []
  },
  {
   "cell_type": "code",
   "execution_count": null,
   "id": "1433e5d8",
   "metadata": {},
   "outputs": [],
   "source": []
  },
  {
   "cell_type": "code",
   "execution_count": null,
   "id": "00b0ff4e",
   "metadata": {},
   "outputs": [],
   "source": []
  },
  {
   "cell_type": "code",
   "execution_count": null,
   "id": "1d3db929",
   "metadata": {},
   "outputs": [],
   "source": []
  },
  {
   "cell_type": "code",
   "execution_count": null,
   "id": "da7a878b",
   "metadata": {},
   "outputs": [],
   "source": []
  }
 ],
 "metadata": {
  "kernelspec": {
   "display_name": "Python 3 (ipykernel)",
   "language": "python",
   "name": "python3"
  },
  "language_info": {
   "codemirror_mode": {
    "name": "ipython",
    "version": 3
   },
   "file_extension": ".py",
   "mimetype": "text/x-python",
   "name": "python",
   "nbconvert_exporter": "python",
   "pygments_lexer": "ipython3",
   "version": "3.11.5"
  }
 },
 "nbformat": 4,
 "nbformat_minor": 5
}
